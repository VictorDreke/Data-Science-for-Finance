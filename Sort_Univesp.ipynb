{
  "nbformat": 4,
  "nbformat_minor": 0,
  "metadata": {
    "colab": {
      "name": "Sort_Univesp.ipynb",
      "provenance": [],
      "authorship_tag": "ABX9TyNqr4Kv48ziZaZbOPZVkE3M",
      "include_colab_link": true
    },
    "kernelspec": {
      "name": "python3",
      "display_name": "Python 3"
    }
  },
  "cells": [
    {
      "cell_type": "markdown",
      "metadata": {
        "id": "view-in-github",
        "colab_type": "text"
      },
      "source": [
        "<a href=\"https://colab.research.google.com/github/VictorDreke/Data-Science-for-Finance/blob/master/Sort_Univesp.ipynb\" target=\"_parent\"><img src=\"https://colab.research.google.com/assets/colab-badge.svg\" alt=\"Open In Colab\"/></a>"
      ]
    },
    {
      "cell_type": "code",
      "metadata": {
        "id": "OYwyMJ58ehox"
      },
      "source": [
        "import numpy as np\n",
        "import time\n",
        "import sys"
      ],
      "execution_count": null,
      "outputs": []
    },
    {
      "cell_type": "markdown",
      "metadata": {
        "id": "e2DX3Jk5a0Sh"
      },
      "source": [
        "# BubbleSort"
      ]
    },
    {
      "cell_type": "code",
      "metadata": {
        "id": "PrGC6OyiYzpN"
      },
      "source": [
        "# not optimized\t\t\t\n",
        "def bubble_sort1(A):\n",
        "\tfor i in range (0, len(A) - 1):\n",
        "\t\tfor j in range (0, len(A) - i - 1):\n",
        "\t\t\tif A[j] > A[j+1]:\n",
        "\t\t\t\tA[j], A[j+1] = A[j+1], A[j]"
      ],
      "execution_count": null,
      "outputs": []
    },
    {
      "cell_type": "code",
      "metadata": {
        "id": "c2cS1OO4bBC2"
      },
      "source": [
        "# optimized to exit if no swaps occur\t\t\n",
        "def bubble_sort2(A):\n",
        "\tfor i in range (0, len(A) - 1):\n",
        "\t\tdone = True\n",
        "\t\tfor j in range (0, len(A) - i - 1):\n",
        "\t\t\tif A[j] > A[j+1]:\n",
        "\t\t\t\tA[j], A[j+1] = A[j+1], A[j]\n",
        "\t\t\t\tdone = False\n",
        "\t\tif done:\n",
        "\t\t\treturn"
      ],
      "execution_count": null,
      "outputs": []
    },
    {
      "cell_type": "markdown",
      "metadata": {
        "id": "kIUKSrl4dFMO"
      },
      "source": [
        "## Test BubbleSort"
      ]
    },
    {
      "cell_type": "code",
      "metadata": {
        "id": "fgFLlEpcbodX"
      },
      "source": [
        "MyList = np.random.randint(8000, size=(5000))\n",
        "MyList.tolist()\n",
        "A = [5,9,1,2,4,8,6,3,7]\n",
        "tic = time.clock()\n",
        "print(A)\n",
        "tic = time.clock()\n",
        "quick_sort(MyList.tolist())\n",
        "toc = time.clock()\n",
        "print(A)\n",
        "print(str(toc-tic))"
      ],
      "execution_count": null,
      "outputs": []
    },
    {
      "cell_type": "markdown",
      "metadata": {
        "id": "w-vmCCOHjfB7"
      },
      "source": [
        "# InsertionSort"
      ]
    },
    {
      "cell_type": "code",
      "metadata": {
        "id": "K2rNrWp3fgrl"
      },
      "source": [
        "# not optimized, equiv to while version below, but uses for loop\n",
        "def insertion_sort1(A):\n",
        "\tfor i in range(1, len(A)):\n",
        "\t\tfor j in range(i-1, -1, -1):\n",
        "\t\t\tif A[j] > A[j+1]:\n",
        "\t\t\t\tA[j], A[j+1] = A[j+1], A[j]\n",
        "\t\t\telse:\n",
        "\t\t\t\tbreak"
      ],
      "execution_count": null,
      "outputs": []
    },
    {
      "cell_type": "code",
      "metadata": {
        "id": "Y8PC92q1kffv"
      },
      "source": [
        "# not optimized, equiv to break version, but uses while loop\t\t\n",
        "def insertion_sort2(A):\n",
        "\tfor i in range(1, len(A)):\n",
        "\t\tj = i-1\n",
        "\t\twhile A[j] > A[j+1] and j >= 0:\n",
        "\t\t\tA[j], A[j+1] = A[j+1], A[j]\n",
        "\t\t\tj -= 1"
      ],
      "execution_count": null,
      "outputs": []
    },
    {
      "cell_type": "code",
      "metadata": {
        "id": "UdY5DY6RkjjH"
      },
      "source": [
        "# optimized - shifts instead of swapping\t\t\n",
        "def insertion_sort3(A):\n",
        "\tfor i in range(1, len(A)):\n",
        "\t\tcurNum = A[i]\n",
        "\t\tk = 0\n",
        "\t\tfor j in range(i-1, -2, -1):\n",
        "\t\t\tk = j\n",
        "\t\t\tif A[j] > curNum:\n",
        "\t\t\t\tA[j+1] = A[j]\n",
        "\t\t\telse:\n",
        "\t\t\t\tbreak\n",
        "\t\tA[k+1] = curNum"
      ],
      "execution_count": null,
      "outputs": []
    },
    {
      "cell_type": "markdown",
      "metadata": {
        "id": "0j0F2p_Ps5bc"
      },
      "source": [
        "# MergeSort"
      ]
    },
    {
      "cell_type": "code",
      "metadata": {
        "id": "zQ6bv3jIs6jh"
      },
      "source": [
        "def merge_sort(A):\n",
        "\tmerge_sort2(A, 0, len(A)-1)\n",
        "\t\n",
        "def merge_sort2(A, first, last):\n",
        "\tif first < last:\n",
        "\t\tmiddle = (first + last)//2\n",
        "\t\tmerge_sort2(A, first, middle) # divisão\n",
        "\t\tmerge_sort2(A, middle+1, last)\n",
        "\t\tmerge(A, first, middle, last)\n",
        "\t\t\n",
        "def merge(A, first, middle, last):\n",
        "\tL = A[first:middle+1]\n",
        "\tR = A[middle+1:last+1]\n",
        "\tL.append(sys.maxsize)\n",
        "\tR.append(sys.maxsize)\n",
        "\ti = j = 0\n",
        "\t\n",
        "\tfor k in range (first, last+1):\n",
        "\t\tif L[i] <= R[j]:\n",
        "\t\t\tA[k] = L[i]\n",
        "\t\t\ti += 1\n",
        "\t\telse:\n",
        "\t\t\tA[k] = R[j]\n",
        "\t\t\tj += 1"
      ],
      "execution_count": null,
      "outputs": []
    },
    {
      "cell_type": "markdown",
      "metadata": {
        "id": "Dip9sEG56Ui4"
      },
      "source": [
        "# QuickSort"
      ]
    },
    {
      "cell_type": "code",
      "metadata": {
        "id": "JG65ETdF6Tcc"
      },
      "source": [
        "\n",
        "def quick_sort(A):\n",
        "\tquick_sort2(A, 0, len(A)-1)\n",
        "\t\n",
        "def quick_sort2(A, low, hi):\n",
        "\tif hi-low < threshold and low < hi:\n",
        "\t\tquick_selection(A, low, hi)\n",
        "\telif low < hi:\n",
        "\t\tp = partition(A, low, hi)\n",
        "\t\tquick_sort2(A, low, p - 1)\n",
        "\t\tquick_sort2(A, p + 1, hi)\n",
        "\t\n",
        "def get_pivot(A, low, hi):\n",
        "\tmid = (hi + low) // 2\n",
        "\ts = sorted([A[low], A[mid], A[hi]])\n",
        "\tif s[1] == A[low]:\n",
        "\t\treturn low\n",
        "\telif s[1] == A[mid]:\n",
        "\t\treturn mid\n",
        "\treturn hi\n",
        "\t\n",
        "def partition(A, low, hi):\n",
        "\tpivotIndex = get_pivot(A, low, hi)\n",
        "\tpivotValue = A[pivotIndex]\n",
        "\tA[pivotIndex], A[low] = A[low], A[pivotIndex]\n",
        "\tborder = low\n",
        "\n",
        "\tfor i in range(low, hi+1):\n",
        "\t\tif A[i] < pivotValue:\n",
        "\t\t\tborder += 1\n",
        "\t\t\tA[i], A[border] = A[border], A[i]\n",
        "\tA[low], A[border] = A[border], A[low]\n",
        "\n",
        "\treturn (border)\n",
        "\t\n",
        "def quick_selection(x, first, last):\n",
        "\tfor i in range (first, last):\n",
        "\t\tminIndex = i\n",
        "\t\tfor j in range (i+1, last+1):\n",
        "\t\t\tif x[j] < x[minIndex]:\n",
        "\t\t\t\tminIndex = j\n",
        "\t\tif minIndex != i:\n",
        "\t\t\tx[i], x[minIndex] = x[minIndex], x[i]"
      ],
      "execution_count": null,
      "outputs": []
    },
    {
      "cell_type": "code",
      "metadata": {
        "id": "593UjGbi6X1i"
      },
      "source": [
        ""
      ],
      "execution_count": null,
      "outputs": []
    }
  ]
}